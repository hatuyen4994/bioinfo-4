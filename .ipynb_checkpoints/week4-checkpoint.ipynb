{
 "cells": [
  {
   "cell_type": "code",
   "execution_count": 1,
   "metadata": {},
   "outputs": [],
   "source": [
    "import numpy as np\n",
    "import copy"
   ]
  },
  {
   "cell_type": "code",
   "execution_count": 2,
   "metadata": {},
   "outputs": [],
   "source": [
    "aa_list = \"\"\"G 57\n",
    "A 71\n",
    "S 87\n",
    "P 97\n",
    "V 99\n",
    "T 101\n",
    "C 103\n",
    "I 113\n",
    "L 113\n",
    "N 114\n",
    "D 115\n",
    "K 128\n",
    "Q 128\n",
    "E 129\n",
    "M 131\n",
    "H 137\n",
    "F 147\n",
    "R 156\n",
    "Y 163\n",
    "W 186\"\"\"\n",
    "aa_list = aa_list.strip().split(\"\\n\")\n",
    "aa_weights = {}\n",
    "for line in aa_list:\n",
    "    aa,w = line.split(\" \")\n",
    "    aa_weights[aa] = int(w)\n",
    "aa_weights_rv = {v:k for k,v in aa_weights.items()}\n",
    "\n",
    "def Graph(full_spectrum):\n",
    "    #Full spectrum contain zero and the mass of the whole peptide\n",
    "    if 0 not in full_spectrum:\n",
    "        full_spectrum.append(0)\n",
    "    full_spectrum = sorted(full_spectrum)\n",
    "        \n",
    "    n = len(full_spectrum)\n",
    "    arr = np.zeros([n,n])\n",
    "    for i in range(len(full_spectrum)-1):\n",
    "        for k in range(i,len(full_spectrum)):\n",
    "            arr[i,k]=abs(full_spectrum[i]-full_spectrum[k])\n",
    "    graph = {}\n",
    "    for w in aa_weights_rv:\n",
    "        result = np.where(arr==w)\n",
    "        result = list(zip(result[0],result[1]))\n",
    "        for x,y in result:\n",
    "            graph[f\"{full_spectrum[x]}->{full_spectrum[y]}\"] = aa_weights_rv[w]\n",
    "    graph =  {k:v for k,v in sorted(graph.items(),key=(lambda item: int(item[0].split(\"->\")[0])))}\n",
    "    return graph\n",
    "\n",
    "def Adjency(full_spectrum):\n",
    "    #Full spectrum contain zero and the mass of the whole peptide    \n",
    "    if 0 not in full_spectrum:\n",
    "        full_spectrum.append(0)\n",
    "    full_spectrum = sorted(full_spectrum)\n",
    "            \n",
    "    n = len(full_spectrum)\n",
    "    arr = np.zeros([n,n])\n",
    "    for i in range(len(full_spectrum)-1):\n",
    "        for k in range(i,len(full_spectrum)):\n",
    "            arr[i,k]=abs(full_spectrum[i]-full_spectrum[k])\n",
    "    adj = {}\n",
    "    for w in aa_weights_rv:\n",
    "        result = np.where(arr==w)\n",
    "        result = list(zip(result[0],result[1]))\n",
    "        for x,y in result:\n",
    "            if x not in adj:\n",
    "                adj[x] = [y]\n",
    "            else:\n",
    "                adj[x].append(y)\n",
    "    adj =  {k:v for k,v in sorted(adj.items(),key=(lambda item: int(item[0])))}\n",
    "    return adj\n",
    "\n",
    "\n",
    "def FindAllPaths(start_node,end_node,adjency):\n",
    "    adjency = copy.deepcopy(adjency)\n",
    "    succeeded = {}\n",
    "    visited = []\n",
    "    all_paths = []\n",
    "    path = []\n",
    "\n",
    "    current_node = start_node\n",
    "\n",
    "\n",
    "    while True :\n",
    "        path.append(current_node)\n",
    "        #if reach destination, save path and dynamic programming to save possible paths for each node\n",
    "        if current_node == end_node:            \n",
    "            all_paths.append(path)\n",
    "            for i in range(len(path) -1):\n",
    "                node_i = path[i]\n",
    "                path_i = path[i+1:]\n",
    "                if node_i not in succeeded:\n",
    "                    succeeded[node_i] = [path_i]\n",
    "                elif path_i not in succeeded[node_i]:\n",
    "                    succeeded[node_i].append(path_i)\n",
    "            current_node = path[-2]\n",
    "            path = path[:-2]\n",
    "            continue\n",
    "        #if reach already visited node and this node doesn't lead to destination, move back\n",
    "        if current_node in visited and current_node not in succeeded:\n",
    "            visited.append(current_node)\n",
    "            current_node = path[-2]\n",
    "            path = path[:-2]\n",
    "            continue\n",
    "\n",
    "            \n",
    "        #if reach a visited node and the path from this node has already been saved, populate new path from this save path \n",
    "        if current_node in visited and current_node in succeeded:\n",
    "            for succeeded_path in succeeded[current_node]:\n",
    "                new_path = path + succeeded_path\n",
    "                all_paths.append(new_path)\n",
    "                for i in range(len(path) -1):\n",
    "                    node_i = path[i]\n",
    "                    path_i = path[i+1:] + succeeded_path\n",
    "                    if node_i not in succeeded:\n",
    "                        succeeded[node_i] = [path_i]\n",
    "                    elif path_i not in succeeded[node_i]:\n",
    "                        succeeded[node_i].append(path_i)\n",
    "            current_node = path[-2]\n",
    "            path = path[:-2]\n",
    "            continue\n",
    "            \n",
    "        #if reach dead end, move back a node, if dead end is start node, return all_paths\n",
    "        if current_node not in adjency or len(adjency[current_node]) == 0:\n",
    "            visited.append(current_node)\n",
    "            if current_node == start_node:\n",
    "                return all_paths\n",
    "            current_node = path[-2]\n",
    "            path = path[:-2]\n",
    "            continue\n",
    "            \n",
    "        #move forward, pop a node in adjency list\n",
    "        if current_node in adjency and len(adjency[current_node]) > 0:\n",
    "            current_node = adjency[current_node].pop(-1)\n",
    "            continue\n",
    "\n",
    "def Weight(peptide):\n",
    "    w = 0\n",
    "    for aa in peptide:\n",
    "        w += aa_weights[aa]\n",
    "    return w \n",
    "\n",
    "def IdealSpectrum(peptide):\n",
    "    prefix_peptides = []\n",
    "    suffix_peptides = []\n",
    "    for i in range(1,len(peptide)):\n",
    "        prefix_peptides.append(peptide[:i])\n",
    "        suffix_peptides.append(peptide[i:])\n",
    "    fragments = prefix_peptides + suffix_peptides\n",
    "    spectrum = [Weight(fragment) for fragment in fragments]\n",
    "    spectrum.append(Weight(peptide))\n",
    "    spectrum.append(0)\n",
    "    return sorted(spectrum)\n",
    "\n",
    "\n",
    "def DecodeIdealSpectrum(full_spectrum):\n",
    "    print(\"Make sure the full spectrum is entered\")\n",
    "    if 0 not in full_spectrum:\n",
    "        full_spectrum.append(0)\n",
    "    full_spectrum = sorted(full_spectrum)\n",
    "    adj = Adjency(full_spectrum)\n",
    "    nodes = []\n",
    "    for k,v in adj.items():\n",
    "        nodes.append(k)\n",
    "        nodes += v\n",
    "    nodes = list(set(nodes))\n",
    "    start = nodes[0]\n",
    "    end = nodes[-1]\n",
    "    print(start,end)\n",
    "    all_paths = FindAllPaths(start,end,adj)\n",
    "\n",
    "    graph = Graph(full_spectrum)\n",
    "\n",
    "    ideal_peptides = []\n",
    "    for path in all_paths:\n",
    "        peptide = \"\"\n",
    "        for i in range(len(path)-1):\n",
    "            prefix = full_spectrum[path[i]]\n",
    "            suffix = full_spectrum[path[i+1]]\n",
    "            edge = f\"{prefix}->{suffix}\"\n",
    "            peptide += graph[edge]\n",
    "        if IdealSpectrum(peptide) == full_spectrum:\n",
    "            ideal_peptides.append(peptide)\n",
    "    return ideal_peptides\n",
    "\n",
    "\n"
   ]
  },
  {
   "cell_type": "code",
   "execution_count": 3,
   "metadata": {},
   "outputs": [],
   "source": [
    "def PepToVector(peptide):\n",
    "    prefix_peptides = []\n",
    "    for i in range(1,len(peptide)+1):\n",
    "        prefix_peptides.append(peptide[:i])\n",
    "    prefix_masses = [Weight(p) for p in prefix_peptides]\n",
    "    binary_mass_vector = np.zeros(prefix_masses[-1])\n",
    "    for i in prefix_masses:\n",
    "        binary_mass_vector[i-1] = 1\n",
    "    return binary_mass_vector\n",
    "\n",
    "def VectorToPep(binary_mass_vector):\n",
    "    print(\"Make sure to add 0 in the first position in input\")\n",
    "    result = np.where(binary_mass_vector==1)\n",
    "    spectrum = [ mass for mass in result[0]]\n",
    "    suffix_mass = []\n",
    "    for mass in spectrum[:-1]:\n",
    "        suffix_mass.append(spectrum[-1] - mass)\n",
    "    spectrum += suffix_mass\n",
    "    peptides = DecodeIdealSpectrum(spectrum)\n",
    "    return peptides"
   ]
  },
  {
   "cell_type": "code",
   "execution_count": 4,
   "metadata": {},
   "outputs": [],
   "source": [
    "def FindAllPathWeightedDAG(start_node,end_node,adjency,poison = None):\n",
    "    if poison == None:\n",
    "        poison = []\n",
    "        \n",
    "    succeeded = {}\n",
    "    visited = []\n",
    "    all_paths = []\n",
    "    path = []\n",
    "\n",
    "    current_node = start_node\n",
    "    while True :\n",
    "        path.append(current_node)\n",
    "        #if reach destination, save path and calculate weight(score) of the path for each node in the path\n",
    "        #if node already has a path, chose the path with higher weight\n",
    "        if current_node == end_node:\n",
    "            all_paths.append(path)\n",
    "            for i in range(len(path) -1):\n",
    "                node_i = path[i]\n",
    "                path_i = path[i+1:]\n",
    "                if node_i not in succeeded:\n",
    "                    new_sum = sum([ip[k] for k in path_i])\n",
    "                    succeeded[node_i] = [path_i,new_sum]\n",
    "                else:\n",
    "                    new_sum = sum([ip[k] for k in path_i])\n",
    "                    old_sum = succeeded[node_i][1]\n",
    "                    if new_sum > old_sum:\n",
    "                        succeeded[node_i] = [path_i,new_sum]\n",
    "            current_node = path[-2]\n",
    "            path = path[:-2]\n",
    "            continue\n",
    "            \n",
    "        #if reach already visited node and this node doesn't lead to destination, move back\n",
    "        if current_node in visited and current_node not in succeeded:\n",
    "            visited.append(current_node)\n",
    "            current_node = path[-2]\n",
    "            path = path[:-2]\n",
    "            continue\n",
    "            \n",
    "        #if reach a poison node (retristed), move back, poison node become visited\n",
    "        if current_node in poison:\n",
    "            visited.append(current_node)\n",
    "            current_node = path[-2]\n",
    "            path = path[:-2]\n",
    "            continue\n",
    "            \n",
    "        #if reach a visited node and the path from this node has already been saved, populate new path from this save path\n",
    "        #calculate weight(score) of the path for potentially new node in the path\n",
    "        #if node already has a path, chose the path with higher weight        \n",
    "        if current_node in visited and current_node in succeeded:\n",
    "            succeeded_path = succeeded[current_node][0]\n",
    "            new_path = path + succeeded_path\n",
    "            all_paths.append(new_path)\n",
    "            for i in range(len(path) -1):\n",
    "                node_i = path[i]\n",
    "                path_i = path[i+1:] + succeeded_path\n",
    "                if node_i not in succeeded:\n",
    "                    new_sum = sum([ip[k] for k in path_i])\n",
    "                    succeeded[node_i] = [path_i,new_sum]\n",
    "                else:\n",
    "                    new_sum = sum([ip[k] for k in path_i])\n",
    "                    old_sum = succeeded[node_i][1]\n",
    "                    if new_sum > old_sum:\n",
    "                        succeeded[node_i] = [path_i,new_sum]\n",
    "\n",
    "            current_node = path[-2]\n",
    "            path = path[:-2]\n",
    "            continue\n",
    "       \n",
    "        #if reach dead end, move back a node, if dead end is start node, return all_paths\n",
    "        if current_node not in adjency or len(adjency[current_node]) == 0:\n",
    "            visited.append(current_node)\n",
    "            if current_node == start_node:\n",
    "                return all_paths\n",
    "            current_node = path[-2]\n",
    "            path = path[:-2]\n",
    "            continue\n",
    "        \n",
    "        #move forward, pop a node in adjency list\n",
    "        if current_node in adjency and len(adjency[current_node]) > 0:\n",
    "            current_node = adjency[current_node].pop(-1)\n",
    "            continue\n",
    "            \n",
    "def FindPeptideRealSpectra(real_spectra):\n",
    "    print(\"Make sure real spectra has node 0 added in the beginning\")\n",
    "    \n",
    "    nodes = [i for i in range(len(real_spectra))]\n",
    "    full_spectrum = nodes\n",
    "    if 0 not in full_spectrum:\n",
    "        full_spectrum.append(0)\n",
    "    full_spectrum = sorted(full_spectrum)\n",
    "    adj = Adjency(full_spectrum)\n",
    "    start = nodes[0]\n",
    "    end = nodes[-1]\n",
    "    \n",
    "    all_paths = FindAllPathWeightedDAG(start,end,adj)\n",
    "\n",
    "    graph = Graph(full_spectrum)\n",
    "    all_sums = []\n",
    "    for path in all_paths:\n",
    "        all_sums.append(sum([real_spectra[i] for i in path]))\n",
    "    best_path = all_paths[np.argmax(all_sums)]\n",
    "\n",
    "    peptide = \"\"\n",
    "    for i in range(len(best_path)-1):\n",
    "        prefix = full_spectrum[best_path[i]]\n",
    "        suffix = full_spectrum[best_path[i+1]]\n",
    "        edge = f\"{prefix}->{suffix}\"\n",
    "        peptide += graph[edge]\n",
    "    return peptide\n",
    "    "
   ]
  },
  {
   "cell_type": "code",
   "execution_count": 5,
   "metadata": {},
   "outputs": [],
   "source": [
    "ip = \"\"\"128 186 259 330 342 467 470 580 656 708 757 839 888 1002 1025 1126 1133 1234 1241 1349 1354 1535 1540 1639 1648 1740 1749 1848 1853 2034 2039 2147 2154 2255 2262 2363 2386 2500 2549 2631 2680 2732 2808 2918 2921 3046 3058 3129 3202 3260 3388\n",
    "\n",
    "\"\"\"\n",
    "ip = ip.strip().split(\" \")\n",
    "ip.append(0)\n",
    "ip = sorted([int(i) for i in ip])"
   ]
  },
  {
   "cell_type": "code",
   "execution_count": 6,
   "metadata": {
    "scrolled": true
   },
   "outputs": [],
   "source": [
    "graph = Graph(ip)"
   ]
  },
  {
   "cell_type": "code",
   "execution_count": 7,
   "metadata": {},
   "outputs": [
    {
     "name": "stdout",
     "output_type": "stream",
     "text": [
      "0->128:Q\n",
      "0->186:W\n",
      "128->259:M\n",
      "186->342:R\n",
      "259->330:A\n",
      "330->467:H\n",
      "342->470:Q\n",
      "467->580:L\n",
      "470->656:W\n",
      "580->708:Q\n",
      "656->757:T\n",
      "708->839:M\n",
      "757->888:M\n",
      "839->1002:Y\n",
      "839->1025:W\n",
      "888->1002:N\n",
      "888->1025:H\n",
      "1002->1133:M\n",
      "1025->1126:T\n",
      "1126->1241:D\n",
      "1133->1234:T\n",
      "1234->1349:D\n",
      "1241->1354:L\n",
      "1349->1535:W\n",
      "1354->1540:W\n",
      "1535->1648:L\n",
      "1540->1639:V\n",
      "1639->1740:T\n",
      "1648->1749:T\n",
      "1740->1853:L\n",
      "1749->1848:V\n",
      "1848->2034:W\n",
      "1853->2039:W\n",
      "2034->2147:L\n",
      "2039->2154:D\n",
      "2147->2262:D\n",
      "2154->2255:T\n",
      "2255->2386:M\n",
      "2262->2363:T\n",
      "2363->2500:H\n",
      "2363->2549:W\n",
      "2386->2500:N\n",
      "2386->2549:Y\n",
      "2500->2631:M\n",
      "2549->2680:M\n",
      "2631->2732:T\n",
      "2680->2808:Q\n",
      "2732->2918:W\n",
      "2808->2921:L\n",
      "2918->3046:Q\n",
      "2921->3058:H\n",
      "3046->3202:R\n",
      "3058->3129:A\n",
      "3129->3260:M\n",
      "3202->3388:W\n",
      "3260->3388:Q\n"
     ]
    }
   ],
   "source": [
    "for k,v in graph.items():\n",
    "    print(f\"{k}:{v}\")"
   ]
  },
  {
   "cell_type": "markdown",
   "metadata": {},
   "source": [
    "#  "
   ]
  },
  {
   "cell_type": "markdown",
   "metadata": {},
   "source": [
    "```R \n",
    "DecodingIdealSpectrum(Spectrum)\n",
    " construct Graph(Spectrum)\n",
    " for each path Path from source to sink in Graph(Spectrum)\n",
    "      Peptide ← the amino acid string spelled by the edge labels of Path\n",
    "      if IdealSpectrum(Peptide) = Spectrum\n",
    "            return Peptide\n",
    "```"
   ]
  },
  {
   "cell_type": "code",
   "execution_count": 8,
   "metadata": {
    "scrolled": true
   },
   "outputs": [],
   "source": [
    "ip = \"\"\"57 113 156 214 285 285 398 448 511 595 608 694 705 795 833 923 946 1037 1077 1150 1263 1287 1376 1401 1513 1564 1660 1711 1823 1848 1937 1961 2074 2147 2187 2278 2301 2391 2429 2519 2530 2616 2629 2713 2776 2826 2939 2939 3010 3068 3111 3167 3224\n",
    "\n",
    "\"\"\"\n",
    "ip = ip.strip().split(\" \")\n",
    "ip.append(0)\n",
    "ip = sorted([int(i) for i in ip])\n"
   ]
  },
  {
   "cell_type": "code",
   "execution_count": 10,
   "metadata": {},
   "outputs": [
    {
     "name": "stdout",
     "output_type": "stream",
     "text": [
      "Make sure the full spectrum is entered\n",
      "0 53\n"
     ]
    },
    {
     "data": {
      "text/plain": [
       "['LTAYFVTQNLHNYFHLWMLQPPLLEVG',\n",
       " 'LTAYFVTQNLHNYFHLWMLQPPLLEVG',\n",
       " 'LTALLPPQLMWLHFYNHLNQTVFYEVG',\n",
       " 'LTALLPPQLMWLHFYNHLNQTVFYEVG',\n",
       " 'LTAYFVTQNLHNYFHLWMLQPPLLEVG',\n",
       " 'LTAYFVTQNLHNYFHLWMLQPPLLEVG',\n",
       " 'LTALLPPQLMWLHFYNHLNQTVFYEVG',\n",
       " 'LTALLPPQLMWLHFYNHLNQTVFYEVG',\n",
       " 'GVEYFVTQNLHNYFHLWMLQPPLLATL',\n",
       " 'GVEYFVTQNLHNYFHLWMLQPPLLATL',\n",
       " 'GVELLPPQLMWLHFYNHLNQTVFYATL',\n",
       " 'GVELLPPQLMWLHFYNHLNQTVFYATL',\n",
       " 'GVEYFVTQNLHNYFHLWMLQPPLLATL',\n",
       " 'GVEYFVTQNLHNYFHLWMLQPPLLATL',\n",
       " 'GVELLPPQLMWLHFYNHLNQTVFYATL',\n",
       " 'GVELLPPQLMWLHFYNHLNQTVFYATL']"
      ]
     },
     "execution_count": 10,
     "metadata": {},
     "output_type": "execute_result"
    }
   ],
   "source": [
    "DecodeIdealSpectrum(ip)"
   ]
  },
  {
   "cell_type": "code",
   "execution_count": 11,
   "metadata": {},
   "outputs": [],
   "source": [
    "z = \"LTAY\""
   ]
  },
  {
   "cell_type": "code",
   "execution_count": 12,
   "metadata": {
    "scrolled": true
   },
   "outputs": [
    {
     "name": "stdout",
     "output_type": "stream",
     "text": [
      "0 0 0 0 0 0 0 0 0 0 0 0 0 0 0 0 0 0 0 0 0 0 0 0 0 0 0 0 0 0 0 0 0 0 0 0 0 0 0 0 0 0 0 0 0 0 0 0 0 0 0 0 0 0 0 0 0 0 0 0 0 0 0 0 0 0 0 0 0 0 0 0 0 0 0 0 0 0 0 0 0 0 0 0 0 0 0 0 0 0 0 0 0 0 0 0 0 0 0 0 0 0 0 0 0 0 0 0 0 0 0 0 1 0 0 0 0 0 0 0 0 0 0 0 0 0 0 0 0 0 0 0 0 0 0 0 0 0 0 0 0 0 0 0 0 0 0 0 0 0 0 0 0 0 0 0 0 0 0 0 0 0 0 0 0 0 0 0 0 0 0 0 0 0 0 0 0 0 0 0 0 0 0 0 0 0 0 0 0 0 0 0 0 0 0 0 0 0 0 0 0 0 0 0 0 0 0 0 0 0 0 0 0 1 0 0 0 0 0 0 0 0 0 0 0 0 0 0 0 0 0 0 0 0 0 0 0 0 0 0 0 0 0 0 0 0 0 0 0 0 0 0 0 0 0 0 0 0 0 0 0 0 0 0 0 0 0 0 0 0 0 0 0 0 0 0 0 0 0 0 0 0 0 0 1 0 0 0 0 0 0 0 0 0 0 0 0 0 0 0 0 0 0 0 0 0 0 0 0 0 0 0 0 0 0 0 0 0 0 0 0 0 0 0 0 0 0 0 0 0 0 0 0 0 0 0 0 0 0 0 0 0 0 0 0 0 0 0 0 0 0 0 0 0 0 0 0 0 0 0 0 0 0 0 0 0 0 0 0 0 0 0 0 0 0 0 0 0 0 0 0 0 0 0 0 0 0 0 0 0 0 0 0 0 0 0 0 0 0 0 0 0 0 0 0 0 0 0 0 0 0 0 0 0 0 0 0 0 0 0 0 0 0 0 0 0 0 0 0 0 0 0 0 0 0 0 0 0 0 0 0 0 0 0 0 0 0 1 "
     ]
    }
   ],
   "source": [
    "binary_mass_vector = PepToVector(z)\n",
    "for i in binary_mass_vector:\n",
    "    print(int(i),end=\" \")"
   ]
  },
  {
   "cell_type": "markdown",
   "metadata": {},
   "source": [
    "# "
   ]
  },
  {
   "cell_type": "code",
   "execution_count": 13,
   "metadata": {},
   "outputs": [],
   "source": [
    "ip = \"\"\"0 0 0 0 0 0 0 0 0 0 0 0 0 0 0 0 0 0 0 0 0 0 0 0 0 0 0 0 0 0 0 0 0 0 0 0 0 0 0 0 0 0 0 0 0 0 0 0 0 0 0 0 0 0 0 0 0 0 0 0 0 0 0 0 0 0 0 0 0 0 0 0 0 0 0 0 0 0 0 0 0 0 0 0 0 0 0 0 0 0 0 0 0 0 0 0 0 0 0 0 0 0 0 1 0 0 0 0 0 0 0 0 0 0 0 0 0 0 0 0 0 0 0 0 0 0 0 0 0 0 0 0 0 0 0 0 0 0 0 0 0 0 0 0 0 0 0 0 0 0 0 0 0 0 0 0 0 0 0 0 0 0 0 0 0 0 0 0 0 0 0 0 0 0 0 0 0 0 0 0 0 0 0 0 0 0 0 0 0 0 0 0 0 0 0 0 0 0 0 0 0 0 0 0 0 0 0 0 0 0 0 0 0 0 0 0 0 0 0 0 0 0 0 0 0 0 0 0 0 0 0 1 0 0 0 0 0 0 0 0 0 0 0 0 0 0 0 0 0 0 0 0 0 0 0 0 0 0 0 0 0 0 0 0 0 0 0 0 0 0 0 0 0 0 0 0 0 0 0 0 0 0 0 0 0 0 0 0 0 0 0 0 0 0 0 0 0 0 0 0 0 0 0 0 0 0 0 0 0 0 0 0 0 0 0 0 0 0 0 0 0 0 0 0 0 0 0 0 0 0 0 0 0 0 0 0 0 0 0 0 0 0 0 0 0 0 0 0 0 0 0 0 0 0 0 0 0 0 0 0 0 0 0 0 0 0 0 0 1 0 0 0 0 0 0 0 0 0 0 0 0 0 0 0 0 0 0 0 0 0 0 0 0 0 0 0 0 0 0 0 0 0 0 0 0 0 0 0 0 0 0 0 0 0 0 0 0 0 0 0 0 0 0 0 0 0 0 0 0 0 0 0 0 0 0 0 0 0 0 0 0 0 0 0 0 0 0 0 0 0 0 0 0 0 0 0 0 0 0 0 0 0 0 0 0 0 0 0 0 0 0 0 0 0 0 0 0 0 0 0 0 0 0 0 0 0 0 0 0 0 0 0 0 0 0 0 1 0 0 0 0 0 0 0 0 0 0 0 0 0 0 0 0 0 0 0 0 0 0 0 0 0 0 0 0 0 0 0 0 0 0 0 0 0 0 0 0 0 0 0 0 0 0 0 0 0 0 0 0 0 0 0 0 0 0 0 0 0 0 0 0 0 0 0 0 0 0 0 0 0 0 0 0 0 0 0 0 0 0 0 0 0 0 0 0 0 0 0 0 0 0 0 0 0 0 0 0 0 0 0 0 0 0 0 0 0 0 0 0 0 0 0 0 0 0 0 0 0 0 0 0 0 0 0 0 0 0 1 0 0 0 0 0 0 0 0 0 0 0 0 0 0 0 0 0 0 0 0 0 0 0 0 0 0 0 0 0 0 0 0 0 0 0 0 0 0 0 0 0 0 0 0 0 0 0 0 0 0 0 0 0 0 0 0 0 0 0 0 0 0 0 0 0 0 0 0 0 0 0 0 0 0 0 0 0 0 0 0 0 0 0 0 0 0 0 0 0 0 0 0 0 0 0 0 0 0 0 0 0 0 0 0 0 0 0 0 0 0 0 0 0 0 0 0 0 0 0 0 0 0 0 0 0 0 0 1 0 0 0 0 0 0 0 0 0 0 0 0 0 0 0 0 0 0 0 0 0 0 0 0 0 0 0 0 0 0 0 0 0 0 0 0 0 0 0 0 0 0 0 0 0 0 0 0 0 0 0 0 0 0 0 0 0 0 0 0 0 0 0 0 0 0 0 0 0 0 0 0 0 0 0 0 0 0 0 0 0 0 0 0 0 0 0 0 0 0 0 0 0 0 0 0 0 0 0 0 1 0 0 0 0 0 0 0 0 0 0 0 0 0 0 0 0 0 0 0 0 0 0 0 0 0 0 0 0 0 0 0 0 0 0 0 0 0 0 0 0 0 0 0 0 0 0 0 0 0 0 0 0 0 0 0 0 0 0 0 0 0 0 0 0 0 0 0 0 0 0 0 0 0 0 0 0 0 0 0 0 0 0 0 0 0 0 0 0 0 0 0 0 0 0 0 0 0 0 1 0 0 0 0 0 0 0 0 0 0 0 0 0 0 0 0 0 0 0 0 0 0 0 0 0 0 0 0 0 0 0 0 0 0 0 0 0 0 0 0 0 0 0 0 0 0 0 0 0 0 0 0 0 0 0 0 0 0 0 0 0 0 0 0 0 0 0 0 0 0 0 0 0 0 0 0 0 0 0 0 0 0 0 0 0 0 0 0 0 0 0 0 0 0 0 0 0 0 0 0 0 0 0 0 0 0 0 0 0 0 0 0 1 0 0 0 0 0 0 0 0 0 0 0 0 0 0 0 0 0 0 0 0 0 0 0 0 0 0 0 0 0 0 0 0 0 0 0 0 0 0 0 0 0 0 0 0 0 0 0 0 0 0 0 0 0 0 0 0 0 0 0 0 0 0 0 0 0 0 0 0 0 0 0 0 0 0 0 0 0 0 0 0 0 0 0 0 0 0 0 0 0 0 0 0 0 0 0 0 0 0 0 0 0 0 0 0 0 0 0 0 0 0 0 0 1 0 0 0 0 0 0 0 0 0 0 0 0 0 0 0 0 0 0 0 0 0 0 0 0 0 0 0 0 0 0 0 0 0 0 0 0 0 0 0 0 0 0 0 0 0 0 0 0 0 0 0 0 0 0 0 0 0 0 0 0 0 0 0 0 0 0 0 0 0 0 0 0 0 0 0 0 0 0 0 0 0 0 0 0 0 0 0 0 0 0 0 0 0 0 0 0 0 0 0 0 0 0 0 0 0 0 0 0 0 0 0 0 0 0 0 0 0 0 0 0 0 0 0 0 0 0 0 0 0 0 1 0 0 0 0 0 0 0 0 0 0 0 0 0 0 0 0 0 0 0 0 0 0 0 0 0 0 0 0 0 0 0 0 0 0 0 0 0 0 0 0 0 0 0 0 0 0 0 0 0 0 0 0 0 0 0 0 0 0 0 0 0 0 0 0 0 0 0 0 0 0 0 0 0 0 0 0 0 0 0 0 0 0 0 0 0 0 0 0 0 0 0 0 0 0 0 0 0 0 0 0 0 0 0 0 0 0 0 0 0 0 0 0 0 0 0 0 0 0 0 0 0 0 0 0 0 0 0 0 0 0 0 0 0 0 0 0 1 0 0 0 0 0 0 0 0 0 0 0 0 0 0 0 0 0 0 0 0 0 0 0 0 0 0 0 0 0 0 0 0 0 0 0 0 0 0 0 0 0 0 0 0 0 0 0 0 0 0 0 0 0 0 0 0 0 0 0 0 0 0 0 0 0 0 0 0 0 0 0 0 0 0 0 0 0 0 0 0 0 0 0 0 0 0 0 0 0 0 0 0 0 0 0 0 0 0 0 0 0 0 0 0 0 0 0 0 0 0 0 0 1 0 0 0 0 0 0 0 0 0 0 0 0 0 0 0 0 0 0 0 0 0 0 0 0 0 0 0 0 0 0 0 0 0 0 0 0 0 0 0 0 0 0 0 0 0 0 0 0 0 0 0 0 0 0 0 0 0 0 0 0 0 0 0 0 0 0 0 0 0 0 0 0 0 0 0 0 0 0 0 0 0 0 0 0 0 0 0 0 0 0 0 0 0 0 0 0 0 0 0 0 0 0 0 0 0 0 0 0 0 0 0 0 0 0 0 0 0 0 0 0 0 0 0 0 0 0 0 0 1 0 0 0 0 0 0 0 0 0 0 0 0 0 0 0 0 0 0 0 0 0 0 0 0 0 0 0 0 0 0 0 0 0 0 0 0 0 0 0 0 0 0 0 0 0 0 0 0 0 0 0 0 0 0 0 0 0 0 0 0 0 0 0 0 0 0 0 0 0 0 0 0 0 0 0 0 0 0 0 0 0 0 0 0 0 0 0 0 0 0 0 0 0 0 0 0 0 0 0 0 0 0 0 0 0 0 0 0 0 0 0 0 0 0 1 0 0 0 0 0 0 0 0 0 0 0 0 0 0 0 0 0 0 0 0 0 0 0 0 0 0 0 0 0 0 0 0 0 0 0 0 0 0 0 0 0 0 0 0 0 0 0 0 0 0 0 0 0 0 0 0 0 0 0 0 0 0 0 0 0 0 0 0 0 0 0 0 0 0 0 0 0 0 0 0 0 0 0 0 0 0 0 0 0 0 0 0 0 0 0 0 0 0 0 0 0 0 0 0 0 0 0 0 0 0 0 0 1 0 0 0 0 0 0 0 0 0 0 0 0 0 0 0 0 0 0 0 0 0 0 0 0 0 0 0 0 0 0 0 0 0 0 0 0 0 0 0 0 0 0 0 0 0 0 0 0 0 0 0 0 0 0 0 0 0 0 0 0 0 0 0 0 0 0 0 0 0 0 0 0 0 0 0 0 0 0 0 0 0 0 0 0 0 0 0 0 0 0 0 0 0 0 0 0 0 0 0 0 0 0 0 0 0 0 0 0 0 0 0 0 0 0 0 0 0 0 0 0 0 0 0 0 0 0 0 0 0 0 1 0 0 0 0 0 0 0 0 0 0 0 0 0 0 0 0 0 0 0 0 0 0 0 0 0 0 0 0 0 0 0 0 0 0 0 0 0 0 0 0 0 0 0 0 0 0 0 0 0 0 0 0 0 0 0 0 0 0 0 0 0 0 0 0 0 0 0 0 0 0 0 0 0 0 0 0 0 0 0 0 0 0 0 0 0 0 0 0 0 0 0 0 0 0 0 0 0 0 0 0 0 0 0 0 0 0 0 0 0 0 0 0 0 0 0 0 0 0 0 0 0 0 0 0 0 0 0 0 0 0 0 0 0 0 0 0 0 0 0 0 0 0 0 0 0 0 0 0 0 0 0 0 0 0 0 1 0 0 0 0 0 0 0 0 0 0 0 0 0 0 0 0 0 0 0 0 0 0 0 0 0 0 0 0 0 0 0 0 0 0 0 0 0 0 0 0 0 0 0 0 0 0 0 0 0 0 0 0 0 0 0 0 0 0 0 0 0 0 0 0 0 0 0 0 0 0 0 0 0 0 0 0 0 0 0 0 0 0 0 0 0 0 1 0 0 0 0 0 0 0 0 0 0 0 0 0 0 0 0 0 0 0 0 0 0 0 0 0 0 0 0 0 0 0 0 0 0 0 0 0 0 0 0 0 0 0 0 0 0 0 0 0 0 0 0 0 0 0 0 0 0 0 0 0 0 0 0 0 0 0 0 0 0 0 0 0 0 0 0 0 0 0 0 0 0 0 0 0 0 1 0 0 0 0 0 0 0 0 0 0 0 0 0 0 0 0 0 0 0 0 0 0 0 0 0 0 0 0 0 0 0 0 0 0 0 0 0 0 0 0 0 0 0 0 0 0 0 0 0 0 0 0 0 0 0 0 0 0 0 0 0 0 0 0 0 0 0 0 0 0 0 0 0 0 0 0 0 0 0 0 0 0 0 0 0 0 0 0 0 0 0 0 0 0 0 0 0 0 0 0 0 0 0 0 0 0 0 0 0 0 0 0 0 0 0 0 0 0 0 0 0 0 0 0 0 0 0 0 0 0 0 0 0 0 0 0 0 0 0 0 0 0 0 0 0 0 0 0 0 0 0 0 0 0 0 1 0 0 0 0 0 0 0 0 0 0 0 0 0 0 0 0 0 0 0 0 0 0 0 0 0 0 0 0 0 0 0 0 0 0 0 0 0 0 0 0 0 0 0 0 0 0 0 0 0 0 0 0 0 0 0 0 0 0 0 0 0 0 0 0 0 0 0 0 0 0 0 0 0 0 0 0 0 0 0 0 0 0 0 0 0 0 0 0 0 0 0 0 0 0 0 0 0 0 0 0 0 0 0 0 0 0 0 0 0 0 0 0 0 0 0 0 0 0 0 0 0 0 0 0 0 0 0 0 0 0 0 0 0 0 0 0 0 0 0 0 0 0 0 0 0 0 0 0 0 0 0 0 0 0 0 1 0 0 0 0 0 0 0 0 0 0 0 0 0 0 0 0 0 0 0 0 0 0 0 0 0 0 0 0 0 0 0 0 0 0 0 0 0 0 0 0 0 0 0 0 0 0 0 0 0 0 0 0 0 0 0 0 0 0 0 0 0 0 0 0 0 0 0 0 0 0 0 0 0 0 0 0 0 0 0 0 0 0 0 0 0 0 0 0 0 0 0 0 0 0 0 0 0 0 0 0 0 0 0 0 0 0 0 0 0 0 0 0 0 0 0 0 0 0 0 0 0 0 0 0 0 0 0 0 0 0 1 0 0 0 0 0 0 0 0 0 0 0 0 0 0 0 0 0 0 0 0 0 0 0 0 0 0 0 0 0 0 0 0 0 0 0 0 0 0 0 0 0 0 0 0 0 0 0 0 0 0 0 0 0 0 0 0 0 0 0 0 0 0 0 0 0 0 0 0 0 0 0 0 0 0 0 0 0 0 0 0 0 0 0 0 0 0 0 0 0 0 0 0 0 0 0 0 0 0 0 0 0 0 0 0 0 0 0 0 0 0 0 0 0 0 0 0 0 0 0 0 0 0 0 0 0 0 0 0 0 0 0 0 0 0 0 0 0 0 0 0 0 0 0 0 0 0 1 0 0 0 0 0 0 0 0 0 0 0 0 0 0 0 0 0 0 0 0 0 0 0 0 0 0 0 0 0 0 0 0 0 0 0 0 0 0 0 0 0 0 0 0 0 0 0 0 0 0 0 0 0 0 0 0 0 0 0 0 0 0 0 0 0 0 0 0 0 0 0 0 0 0 0 0 0 0 0 0 0 0 0 0 0 0 0 0 0 0 0 0 0 0 0 0 0 0 0 0 0 0 1 0 0 0 0 0 0 0 0 0 0 0 0 0 0 0 0 0 0 0 0 0 0 0 0 0 0 0 0 0 0 0 0 0 0 0 0 0 0 0 0 0 0 0 0 0 0 0 0 0 0 0 0 0 0 0 0 0 0 0 0 0 0 0 0 0 0 0 0 0 0 0 0 0 0 0 0 0 0 0 0 0 0 0 0 0 0 0 0 0 0 0 0 0 0 0 0 0 0 1 0 0 0 0 0 0 0 0 0 0 0 0 0 0 0 0 0 0 0 0 0 0 0 0 0 0 0 0 0 0 0 0 0 0 0 0 0 0 0 0 0 0 0 0 0 0 0 0 0 0 0 0 0 0 0 0 0 0 0 0 0 0 0 0 0 0 0 0 0 0 0 0 0 0 0 0 0 0 0 0 0 0 0 0 0 0 0 0 0 0 0 0 0 0 0 0 0 0 0 0 0 0 0 0 0 0 0 0 0 0 0 0 0 1\n",
    "\"\"\""
   ]
  },
  {
   "cell_type": "code",
   "execution_count": 14,
   "metadata": {},
   "outputs": [],
   "source": [
    "\n",
    "ip = ip.strip()\n",
    "ip = ip.split(\" \")\n",
    "ip = np.array([int(bit) for bit in ip])"
   ]
  },
  {
   "cell_type": "code",
   "execution_count": 15,
   "metadata": {
    "scrolled": false
   },
   "outputs": [
    {
     "name": "stdout",
     "output_type": "stream",
     "text": [
      "Make sure to add 0 in the first position in input\n",
      "Make sure the full spectrum is entered\n",
      "0 53\n"
     ]
    },
    {
     "data": {
      "text/plain": [
       "['NVCFMRRSSRMLDELHMLLVTQMQHQC', 'CQHQMQTVLLMHLEDLMRSSRRMFCVN']"
      ]
     },
     "execution_count": 15,
     "metadata": {},
     "output_type": "execute_result"
    }
   ],
   "source": [
    "VectorToPep(ip)"
   ]
  },
  {
   "cell_type": "markdown",
   "metadata": {},
   "source": [
    "# "
   ]
  },
  {
   "cell_type": "code",
   "execution_count": 16,
   "metadata": {},
   "outputs": [],
   "source": [
    "ip = \"\"\"0 12 -5 9 3 6 27 24 8 10 -16 1 18 17 13 -13 10 4 0 18 -4 2 -4 21 -15 9 7 27 13 -20 15 8 26 -9 6 14 -19 11 -20 -15 30 -9 -1 10 -10 11 -19 -1 9 -14 12 0 16 -9 -7 -8 21 5 16 -13 -8 -17 -7 15 9 -14 0 24 -6 20 28 17 -6 9 26 23 -10 16 -12 20 -1 8 -3 7 12 -11 8 -5 -17 12 -6 -20 17 13 -17 7 8 8 -8 21 -1 -8 -1 -5 26 8 10 18 22 -13 16 -3 10 27 -10 -10 -3 -4 4 -3 22 14 16 29 27 21 0 26 -4 18 -9 3 27 11 27 13 9 -15 -19 27 -19 -16 18 -19 3 30 -6 23 -10 13 -9 11 -4 -7 -16 -1 -9 15 -20 -16 -6 13 11 -5 -2 13 -2 1 24 24 16 3 27 7 7 -11 -2 -5 21 12 19 30 7 -6 1 5 19 23 6 -1 -19 26 12 -20 -8 -10 7 -4 9 -13 -18 -1 8 30 -18 7 -5 -9 -3 20 23 -17 30 27 28 -7 -19 -16 23 6 -14 -19 -15 5 -17 -12 4 17 -3 26 7 -1 -20 2 -3 17 -18 28 15 16 4 26 2 -15 29 15 6 7 13 -15 20 8 24 -1 22 -8 -19 23 17 -10 12 -10 -13 20 6 -16 15 -20 13 -8 -19 -13 -20 15 5 2 -7 16 -11 -18 3 -5 26 7 15 -20 5 2 13 -19 -15 1 -2 17 -13 30 -13 -16 -17 -15 28 1 -8 4 -4 -7 12 24 16 1 -11 5 -13 -15 -12 18 8 16 16 24 -1 5 -5 -20 -12 3 -13 18 -16 -11 -9 25 3 3 27 24 -19 6 -7 -13 1 13 1 19 2 -8 -20 -2 11 1 25 -12 28 7 -4 6 26 23 4 0 29 -12 -14 6 25 25 -11 21 -16 -11 30 -12 6 23 -14 20 0 -9 23 24 29 5 -19 -17 -1 27 -16 29 -11 20 10 -6 -15 -7 15 -2 -7 19 4 -5 -19 -5 15 -14 -20 3 -3 -4 -16 27 -11 16 -1 3 -4 -14 29 20 20 12 -18 16 -4 14 -12 11 -1 -10 24 21 -8 -4 27 24 24 -12 20 14 14 23 -9 29 3 -11 21 27 -16 -15 23 13 0 15 -2 17 -19 -9 -9 -17 25 12 20 9 3 30 0 2 -14 -9 -17 24 7 27 1 -17 -16 6 19 5 5 -17 2 26 -14 -8 30 17 -20 -12 17 18 29 3 20 -1 -19 10 -18 -16 -5 -14 4 22 26 1 17 30 14 10 -9 -19 10 -5 -14 16 13 10 -2 -4 -6 26 -17 -19 -6 2 -8 -20 -16 11 -16 5 29 13 22 26 20 27 7 7 -14 0 -9 -14 20 -1 3 7 5 7 13 18 -16 -18 20 -7 0 9 9 18 30 -6 -18 29 -9 22 1 2 -4 -4 7 -11 8 -12 7 14 20 25 -19 17 -6 -10 17 4 18 -19 24 7 17 3 -2 -18 9 15 10 11 -20 -5 -17 28 3 12 -6 -6 -7 30 -19 8 17 -7 -15 7 -18 -12 15 25 -11 -19 16 -14 28 8 -4 22 6 12 -14 -13 30 -1 2 -13 -5 24 -10 -3 24 -9 9 -17 -2 30 -1 -12 15 6 13 -8 12 2 11 -19 -19 30 -2 -16 7 -6 10 13 19 13 -16 -8 28 -6 -14 19 21 18 -9 5 -14 -13 -2 22 -12 27 -13 24 29 24 15 -20 -2 -17 -5 -6 20 0 22 5 18 5 -3 5 -3 26 -16 16 -1 0 19 6 15 -17 22 25 -2 20 -3 0 24 -10 -4 8 17 -8 -7 6 13 -15 10 -20 25 -12 -3 19 16 -2 14 0 -10 -10 19 21 7 -16 22 3 30 9 5 30 0 21 12 0 23 4 -6 -2 6 13 -5 0 15 -7 13 3 -1 8 17 -16 14 -3 -18 4 21 29 7 26 0 9 -18 9 17 7 -5 17 18 -2 -12 22 0 30 -3 -4 -17 -1 -4 23 3 2 8 1 3 0 22 21 2 23 -9 10 0 6 4 12 -1 5 -12 10 15 -15 4 6 -11 8 6 3 5 -1 17 15 18 -8 -9 28 29 0 -7 10 -17 26 -5 -15 -8 22 -9 -12 20 -12 5 0 8 -9 -16 -4 23 -7 13 24 7 29 26 29 26 8 9 -2 1 18 30 22 22 24 25 26 16 13 1 5 1 24 -5 -19 -10 -9\n",
    "\"\"\""
   ]
  },
  {
   "cell_type": "code",
   "execution_count": 17,
   "metadata": {},
   "outputs": [],
   "source": [
    "ip = ip.strip()\n",
    "ip = ip.split(\" \")\n",
    "ip = np.array([int(bit) for bit in ip])"
   ]
  },
  {
   "cell_type": "code",
   "execution_count": 18,
   "metadata": {
    "scrolled": true
   },
   "outputs": [
    {
     "name": "stdout",
     "output_type": "stream",
     "text": [
      "Make sure real spectra has node 0 added in the beginning\n"
     ]
    },
    {
     "data": {
      "text/plain": [
       "'ATGASCAGGAE'"
      ]
     },
     "execution_count": 18,
     "metadata": {},
     "output_type": "execute_result"
    }
   ],
   "source": [
    "FindPeptideRealSpectra(ip)"
   ]
  }
 ],
 "metadata": {
  "kernelspec": {
   "display_name": "Python 3",
   "language": "python",
   "name": "python3"
  },
  "language_info": {
   "codemirror_mode": {
    "name": "ipython",
    "version": 3
   },
   "file_extension": ".py",
   "mimetype": "text/x-python",
   "name": "python",
   "nbconvert_exporter": "python",
   "pygments_lexer": "ipython3",
   "version": "3.7.4"
  }
 },
 "nbformat": 4,
 "nbformat_minor": 2
}
